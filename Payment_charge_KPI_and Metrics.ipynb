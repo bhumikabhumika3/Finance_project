{
 "cells": [
  {
   "cell_type": "code",
   "execution_count": 0,
   "metadata": {
    "application/vnd.databricks.v1+cell": {
     "cellMetadata": {
      "byteLimit": 2048000,
      "rowLimit": 10000
     },
     "inputWidgets": {},
     "nuid": "785cbb54-ee5e-4e19-b1c5-5623e88c6412",
     "showTitle": false,
     "tableResultSettingsMap": {},
     "title": ""
    }
   },
   "outputs": [],
   "source": [
    "spark"
   ]
  },
  {
   "cell_type": "code",
   "execution_count": 0,
   "metadata": {
    "application/vnd.databricks.v1+cell": {
     "cellMetadata": {
      "byteLimit": 2048000,
      "rowLimit": 10000
     },
     "inputWidgets": {},
     "nuid": "ccb561ef-2d6c-4ec1-a222-9ffc7e2405e2",
     "showTitle": false,
     "tableResultSettingsMap": {},
     "title": ""
    }
   },
   "outputs": [],
   "source": [
    "charge_schema='Transaction_Date date,Transaction_ID string,ItemCode integer,ItemDescription string, NumberOfTransaction integer,Charges double,Country string'"
   ]
  },
  {
   "cell_type": "code",
   "execution_count": 0,
   "metadata": {
    "application/vnd.databricks.v1+cell": {
     "cellMetadata": {
      "byteLimit": 2048000,
      "rowLimit": 10000
     },
     "inputWidgets": {},
     "nuid": "5a78ba33-0ef7-420e-ae21-c16368271bc1",
     "showTitle": false,
     "tableResultSettingsMap": {},
     "title": ""
    }
   },
   "outputs": [],
   "source": [
    "\n"
   ]
  },
  {
   "cell_type": "code",
   "execution_count": 0,
   "metadata": {
    "application/vnd.databricks.v1+cell": {
     "cellMetadata": {
      "byteLimit": 2048000,
      "rowLimit": 10000
     },
     "inputWidgets": {},
     "nuid": "4d7aef2d-afd8-41a8-b9a7-b49d220898ec",
     "showTitle": false,
     "tableResultSettingsMap": {},
     "title": ""
    }
   },
   "outputs": [],
   "source": [
    "\n",
    "# The applied options are for CSV files. For other file types, these will be ignored.\n",
    "df = spark.read.format(\"csv\").option('header',True).option(\"inferSchema\",True).load(file_location)\n",
    "df.printSchema()"
   ]
  },
  {
   "cell_type": "code",
   "execution_count": 0,
   "metadata": {
    "application/vnd.databricks.v1+cell": {
     "cellMetadata": {
      "byteLimit": 2048000,
      "rowLimit": 10000
     },
     "inputWidgets": {},
     "nuid": "b244f509-d19f-4aa1-b3ce-ad853d79e0fe",
     "showTitle": false,
     "tableResultSettingsMap": {},
     "title": ""
    }
   },
   "outputs": [],
   "source": [
    "df.createOrReplaceTempView(\"charge\")\n",
    "Processed_df=spark.sql(\"\"\"select substring(timestamp,1,10) as date,`Transaction ID` as Transaction_ID,\n",
    "          userID,ItemCode,ItemDescription,NumberOfTransaction,Charges,Country\n",
    "           from charge where userID !=-1 \"\"\" )"
   ]
  },
  {
   "cell_type": "code",
   "execution_count": 0,
   "metadata": {
    "application/vnd.databricks.v1+cell": {
     "cellMetadata": {
      "byteLimit": 2048000,
      "rowLimit": 10000
     },
     "inputWidgets": {},
     "nuid": "69b11317-8b95-406c-b574-2537d3fc65c3",
     "showTitle": false,
     "tableResultSettingsMap": {},
     "title": ""
    }
   },
   "outputs": [],
   "source": [
    "\n",
    "#Processed_df=Processed_df.filter(\"Date is not null\")\n",
    "Processed_df.createOrReplaceTempView(\"charge\")\n",
    "Processed_df.count()"
   ]
  },
  {
   "cell_type": "code",
   "execution_count": 0,
   "metadata": {
    "application/vnd.databricks.v1+cell": {
     "cellMetadata": {
      "byteLimit": 2048000,
      "rowLimit": 10000
     },
     "inputWidgets": {},
     "nuid": "4aee367f-ffc0-4a8c-be24-021add12620c",
     "showTitle": false,
     "tableResultSettingsMap": {},
     "title": ""
    }
   },
   "outputs": [],
   "source": [
    "#1.\tCharges per Payment/region (total charges)\n",
    "spark.sql(\"\"\"  \n",
    "          select Country, round(sum(Charges),2) as total_charge,count(ItemCode) as total_transactions\n",
    "          from charge\n",
    "          group by Country        \n",
    "                   \n",
    "          \"\"\").show()"
   ]
  },
  {
   "cell_type": "code",
   "execution_count": 0,
   "metadata": {
    "application/vnd.databricks.v1+cell": {
     "cellMetadata": {
      "byteLimit": 2048000,
      "rowLimit": 10000
     },
     "inputWidgets": {},
     "nuid": "2afde5e5-d826-4899-b7d3-b41a605846e8",
     "showTitle": false,
     "tableResultSettingsMap": {},
     "title": ""
    }
   },
   "outputs": [],
   "source": [
    "#2.\tAverage charges per transaction\n",
    "\n",
    "spark.sql(\" Select count(Transaction_ID) as total_transaction ,round(sum(Charges)/count(Transaction_ID),2) as avg_charge_per_transaction from charge\").show()"
   ]
  },
  {
   "cell_type": "code",
   "execution_count": 0,
   "metadata": {
    "application/vnd.databricks.v1+cell": {
     "cellMetadata": {
      "byteLimit": 2048000,
      "rowLimit": 10000
     },
     "inputWidgets": {},
     "nuid": "88fa9963-a0b3-4651-a824-c52d02c6780d",
     "showTitle": false,
     "tableResultSettingsMap": {},
     "title": ""
    }
   },
   "outputs": [],
   "source": [
    "#\tTop 5 items with highest number of transactions\n",
    "spark.sql(\"\"\"\n",
    "          select ItemCode,count(Transaction_ID) count_of_transaction\n",
    "          from charge\n",
    "          group by ItemCode\n",
    "          order by count_of_transaction desc\n",
    "          \n",
    "          \"\"\").show(5)"
   ]
  },
  {
   "cell_type": "code",
   "execution_count": 0,
   "metadata": {
    "application/vnd.databricks.v1+cell": {
     "cellMetadata": {
      "byteLimit": 2048000,
      "rowLimit": 10000
     },
     "inputWidgets": {},
     "nuid": "3180d9a6-bb0a-4b77-b75a-61939374c098",
     "showTitle": false,
     "tableResultSettingsMap": {},
     "title": ""
    }
   },
   "outputs": [],
   "source": [
    "#4.\tTop 10 item codes with highest charge\n",
    "spark.sql(\"\"\"   \n",
    "          SELECT ItemCode,round(sum(Charges),2) as total_charge from charge where ItemCode!=-1 group by ItemCode order by total_charge desc limit 10\n",
    "         \n",
    "          \n",
    "          \"\"\").show(10)\n",
    "\n"
   ]
  },
  {
   "cell_type": "code",
   "execution_count": 0,
   "metadata": {
    "application/vnd.databricks.v1+cell": {
     "cellMetadata": {
      "byteLimit": 2048000,
      "rowLimit": 10000
     },
     "inputWidgets": {},
     "nuid": "96d46fb2-9342-43cc-9975-2e394b3a424c",
     "showTitle": false,
     "tableResultSettingsMap": {},
     "title": ""
    }
   },
   "outputs": [],
   "source": [
    "#5.\tUser_id for those customer who paid highest charges,and total charges \n",
    "spark.sql(\"\"\"      \n",
    "\n",
    "          select userID as top_customers,round(sum(Charges),2) as total_charge from charge group by userID order by total_charge desc limit 5  \n",
    "           \"\"\"\n",
    ").show()"
   ]
  },
  {
   "cell_type": "code",
   "execution_count": 0,
   "metadata": {
    "application/vnd.databricks.v1+cell": {
     "cellMetadata": {
      "byteLimit": 2048000,
      "rowLimit": 10000
     },
     "inputWidgets": {},
     "nuid": "9563cad6-ab48-4064-a915-cf7f354cadd3",
     "showTitle": false,
     "tableResultSettingsMap": {},
     "title": ""
    }
   },
   "outputs": [],
   "source": [
    "# month on month growth of charges \n",
    "spark.sql(\"\"\"\n",
    "           select \n",
    "           date,\n",
    "           round(sum(Charges),2) as total_charge,\n",
    "           round(sum(Charges)-lag(sum(Charges)) over (order by date),2) as Daily_growth_rate         \n",
    "            from charge  where date>='01-07-2024'\n",
    "            group by date \n",
    "            order by date\n",
    "           \"\"\").show()"
   ]
  }
 ],
 "metadata": {
  "application/vnd.databricks.v1+notebook": {
   "computePreferences": null,
   "dashboards": [],
   "environmentMetadata": {
    "base_environment": "",
    "environment_version": "2"
   },
   "inputWidgetPreferences": null,
   "language": "python",
   "notebookMetadata": {
    "pythonIndentUnit": 4
   },
   "notebookName": "Payment_charge_KPI_and Metrics",
   "widgets": {}
  },
  "language_info": {
   "name": "python"
  }
 },
 "nbformat": 4,
 "nbformat_minor": 0
}
